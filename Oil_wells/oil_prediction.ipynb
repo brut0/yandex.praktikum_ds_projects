{
 "cells": [
  {
   "cell_type": "markdown",
   "metadata": {},
   "source": [
    "# Определение региона для бурения новой скважины по прогнозируемой прибыли\n",
    "**Проект №7 Яндекс.Практикум - Data Science**"
   ]
  },
  {
   "cell_type": "markdown",
   "metadata": {},
   "source": [
    "## Описание проекта\n",
    "\n",
    "**Исходные данные:**\n",
    "\n",
    "Пробы нефти в трёх регионах и характеристики для каждой скважины в регионе.\n",
    "\n",
    "**Цель проекта:**\n",
    "\n",
    "Построить модель для определения региона, где добыча принесёт наибольшую прибыль. Использовать при анализе возможной прибыли и рисков технику Bootstrap.\n",
    "\n",
    "**Условия задачи:**\n",
    "\n",
    "При разведке региона исследуют 500 точек, из которых с помощью машинного обучения выбирают 200 лучших для разработки.\n",
    "Бюджет на разработку скважин в регионе — 10 млрд рублей.\n",
    "При нынешних ценах один баррель сырья приносит 450 рублей дохода. Доход с каждой единицы продукта составляет 450 тыс. рублей, поскольку объём указан в тысячах баррелей.\n",
    "После оценки рисков нужно оставить лишь те регионы, в которых вероятность убытков меньше 2.5%. Среди них выбирают регион с наибольшей средней прибылью."
   ]
  },
  {
   "cell_type": "markdown",
   "metadata": {},
   "source": [
    "### Структура проекта\n",
    "* [1. Загрузка, анализ и подготовка данных](#start)\n",
    "* [2. Обучение и проверка модели](#model)\n",
    "    * [2.1 Обучение модели и предсказание на валидационной выборке](#predict)\n",
    "    * [2.2 Анализ результатов обучения](#analysis)\n",
    "* [3. Расчёт прибыли](#earnings)\n",
    "    * [3.1 Подготовка к расчёту прибыли](#earnings_1)\n",
    "    * [3.2 Расчёт прибыли и рисков](#earnings_1)\n",
    "* [4. Общий вывод](#conclusion)"
   ]
  },
  {
   "cell_type": "markdown",
   "metadata": {},
   "source": [
    "<a id=\"start\"></a>\n",
    "## 1. Загрузка, анализ и подготовка данных"
   ]
  },
  {
   "cell_type": "markdown",
   "metadata": {},
   "source": [
    "#### Импортируем необходимые библиотеки"
   ]
  },
  {
   "cell_type": "code",
   "execution_count": 1,
   "metadata": {},
   "outputs": [],
   "source": [
    "import itertools\n",
    "import pandas as pd\n",
    "import numpy as np\n",
    "import matplotlib.pyplot as plt\n",
    "from sklearn.utils import shuffle\n",
    "from sklearn.model_selection import train_test_split\n",
    "from sklearn.metrics import mean_squared_error\n",
    "from sklearn.linear_model import LinearRegression"
   ]
  },
  {
   "cell_type": "code",
   "execution_count": 2,
   "metadata": {},
   "outputs": [
    {
     "name": "stdout",
     "output_type": "stream",
     "text": [
      "Прочитан файл с данными: \"./datasets/geo_data_0.csv\"\n",
      "Прочитан файл с данными: \"./datasets/geo_data_1.csv\"\n",
      "Прочитан файл с данными: \"./datasets/geo_data_2.csv\"\n"
     ]
    }
   ],
   "source": [
    "dataset_names = ['geo_data_0.csv', 'geo_data_1.csv', 'geo_data_2.csv']\n",
    "data = []\n",
    "\n",
    "try:\n",
    "    for dataset in dataset_names:\n",
    "        data.append(pd.read_csv(f'./datasets/{dataset}', sep=','))\n",
    "        print(f'Прочитан файл с данными: \"./datasets/{dataset}\"')\n",
    "except:\n",
    "    try:\n",
    "        for dataset in dataset_names:\n",
    "            data = pd.read_csv(f'/datasets/{dataset_name}', sep=',') # yandex.praktikum\n",
    "            print(f'Прочитан файл с данными: \"/datasets/{dataset_name}\"')\n",
    "    except Exception as err:\n",
    "        print(repr(err))"
   ]
  },
  {
   "cell_type": "code",
   "execution_count": 3,
   "metadata": {},
   "outputs": [
    {
     "data": {
      "text/html": [
       "<div>\n",
       "<style scoped>\n",
       "    .dataframe tbody tr th:only-of-type {\n",
       "        vertical-align: middle;\n",
       "    }\n",
       "\n",
       "    .dataframe tbody tr th {\n",
       "        vertical-align: top;\n",
       "    }\n",
       "\n",
       "    .dataframe thead th {\n",
       "        text-align: right;\n",
       "    }\n",
       "</style>\n",
       "<table border=\"1\" class=\"dataframe\">\n",
       "  <thead>\n",
       "    <tr style=\"text-align: right;\">\n",
       "      <th></th>\n",
       "      <th>id</th>\n",
       "      <th>f0</th>\n",
       "      <th>f1</th>\n",
       "      <th>f2</th>\n",
       "      <th>product</th>\n",
       "    </tr>\n",
       "  </thead>\n",
       "  <tbody>\n",
       "    <tr>\n",
       "      <th>0</th>\n",
       "      <td>txEyH</td>\n",
       "      <td>0.705745</td>\n",
       "      <td>-0.497823</td>\n",
       "      <td>1.221170</td>\n",
       "      <td>105.280062</td>\n",
       "    </tr>\n",
       "    <tr>\n",
       "      <th>1</th>\n",
       "      <td>2acmU</td>\n",
       "      <td>1.334711</td>\n",
       "      <td>-0.340164</td>\n",
       "      <td>4.365080</td>\n",
       "      <td>73.037750</td>\n",
       "    </tr>\n",
       "    <tr>\n",
       "      <th>2</th>\n",
       "      <td>409Wp</td>\n",
       "      <td>1.022732</td>\n",
       "      <td>0.151990</td>\n",
       "      <td>1.419926</td>\n",
       "      <td>85.265647</td>\n",
       "    </tr>\n",
       "    <tr>\n",
       "      <th>3</th>\n",
       "      <td>iJLyR</td>\n",
       "      <td>-0.032172</td>\n",
       "      <td>0.139033</td>\n",
       "      <td>2.978566</td>\n",
       "      <td>168.620776</td>\n",
       "    </tr>\n",
       "    <tr>\n",
       "      <th>4</th>\n",
       "      <td>Xdl7t</td>\n",
       "      <td>1.988431</td>\n",
       "      <td>0.155413</td>\n",
       "      <td>4.751769</td>\n",
       "      <td>154.036647</td>\n",
       "    </tr>\n",
       "  </tbody>\n",
       "</table>\n",
       "</div>"
      ],
      "text/plain": [
       "      id        f0        f1        f2     product\n",
       "0  txEyH  0.705745 -0.497823  1.221170  105.280062\n",
       "1  2acmU  1.334711 -0.340164  4.365080   73.037750\n",
       "2  409Wp  1.022732  0.151990  1.419926   85.265647\n",
       "3  iJLyR -0.032172  0.139033  2.978566  168.620776\n",
       "4  Xdl7t  1.988431  0.155413  4.751769  154.036647"
      ]
     },
     "execution_count": 3,
     "metadata": {},
     "output_type": "execute_result"
    }
   ],
   "source": [
    "data[0].head(5)"
   ]
  },
  {
   "cell_type": "code",
   "execution_count": 4,
   "metadata": {},
   "outputs": [
    {
     "data": {
      "text/html": [
       "<div>\n",
       "<style scoped>\n",
       "    .dataframe tbody tr th:only-of-type {\n",
       "        vertical-align: middle;\n",
       "    }\n",
       "\n",
       "    .dataframe tbody tr th {\n",
       "        vertical-align: top;\n",
       "    }\n",
       "\n",
       "    .dataframe thead th {\n",
       "        text-align: right;\n",
       "    }\n",
       "</style>\n",
       "<table border=\"1\" class=\"dataframe\">\n",
       "  <thead>\n",
       "    <tr style=\"text-align: right;\">\n",
       "      <th></th>\n",
       "      <th>id</th>\n",
       "      <th>f0</th>\n",
       "      <th>f1</th>\n",
       "      <th>f2</th>\n",
       "      <th>product</th>\n",
       "    </tr>\n",
       "  </thead>\n",
       "  <tbody>\n",
       "    <tr>\n",
       "      <th>0</th>\n",
       "      <td>kBEdx</td>\n",
       "      <td>-15.001348</td>\n",
       "      <td>-8.276000</td>\n",
       "      <td>-0.005876</td>\n",
       "      <td>3.179103</td>\n",
       "    </tr>\n",
       "    <tr>\n",
       "      <th>1</th>\n",
       "      <td>62mP7</td>\n",
       "      <td>14.272088</td>\n",
       "      <td>-3.475083</td>\n",
       "      <td>0.999183</td>\n",
       "      <td>26.953261</td>\n",
       "    </tr>\n",
       "    <tr>\n",
       "      <th>2</th>\n",
       "      <td>vyE1P</td>\n",
       "      <td>6.263187</td>\n",
       "      <td>-5.948386</td>\n",
       "      <td>5.001160</td>\n",
       "      <td>134.766305</td>\n",
       "    </tr>\n",
       "    <tr>\n",
       "      <th>3</th>\n",
       "      <td>KcrkZ</td>\n",
       "      <td>-13.081196</td>\n",
       "      <td>-11.506057</td>\n",
       "      <td>4.999415</td>\n",
       "      <td>137.945408</td>\n",
       "    </tr>\n",
       "    <tr>\n",
       "      <th>4</th>\n",
       "      <td>AHL4O</td>\n",
       "      <td>12.702195</td>\n",
       "      <td>-8.147433</td>\n",
       "      <td>5.004363</td>\n",
       "      <td>134.766305</td>\n",
       "    </tr>\n",
       "  </tbody>\n",
       "</table>\n",
       "</div>"
      ],
      "text/plain": [
       "      id         f0         f1        f2     product\n",
       "0  kBEdx -15.001348  -8.276000 -0.005876    3.179103\n",
       "1  62mP7  14.272088  -3.475083  0.999183   26.953261\n",
       "2  vyE1P   6.263187  -5.948386  5.001160  134.766305\n",
       "3  KcrkZ -13.081196 -11.506057  4.999415  137.945408\n",
       "4  AHL4O  12.702195  -8.147433  5.004363  134.766305"
      ]
     },
     "execution_count": 4,
     "metadata": {},
     "output_type": "execute_result"
    }
   ],
   "source": [
    "data[1].head(5)"
   ]
  },
  {
   "cell_type": "code",
   "execution_count": 5,
   "metadata": {},
   "outputs": [
    {
     "data": {
      "text/html": [
       "<div>\n",
       "<style scoped>\n",
       "    .dataframe tbody tr th:only-of-type {\n",
       "        vertical-align: middle;\n",
       "    }\n",
       "\n",
       "    .dataframe tbody tr th {\n",
       "        vertical-align: top;\n",
       "    }\n",
       "\n",
       "    .dataframe thead th {\n",
       "        text-align: right;\n",
       "    }\n",
       "</style>\n",
       "<table border=\"1\" class=\"dataframe\">\n",
       "  <thead>\n",
       "    <tr style=\"text-align: right;\">\n",
       "      <th></th>\n",
       "      <th>id</th>\n",
       "      <th>f0</th>\n",
       "      <th>f1</th>\n",
       "      <th>f2</th>\n",
       "      <th>product</th>\n",
       "    </tr>\n",
       "  </thead>\n",
       "  <tbody>\n",
       "    <tr>\n",
       "      <th>0</th>\n",
       "      <td>fwXo0</td>\n",
       "      <td>-1.146987</td>\n",
       "      <td>0.963328</td>\n",
       "      <td>-0.828965</td>\n",
       "      <td>27.758673</td>\n",
       "    </tr>\n",
       "    <tr>\n",
       "      <th>1</th>\n",
       "      <td>WJtFt</td>\n",
       "      <td>0.262778</td>\n",
       "      <td>0.269839</td>\n",
       "      <td>-2.530187</td>\n",
       "      <td>56.069697</td>\n",
       "    </tr>\n",
       "    <tr>\n",
       "      <th>2</th>\n",
       "      <td>ovLUW</td>\n",
       "      <td>0.194587</td>\n",
       "      <td>0.289035</td>\n",
       "      <td>-5.586433</td>\n",
       "      <td>62.871910</td>\n",
       "    </tr>\n",
       "    <tr>\n",
       "      <th>3</th>\n",
       "      <td>q6cA6</td>\n",
       "      <td>2.236060</td>\n",
       "      <td>-0.553760</td>\n",
       "      <td>0.930038</td>\n",
       "      <td>114.572842</td>\n",
       "    </tr>\n",
       "    <tr>\n",
       "      <th>4</th>\n",
       "      <td>WPMUX</td>\n",
       "      <td>-0.515993</td>\n",
       "      <td>1.716266</td>\n",
       "      <td>5.899011</td>\n",
       "      <td>149.600746</td>\n",
       "    </tr>\n",
       "  </tbody>\n",
       "</table>\n",
       "</div>"
      ],
      "text/plain": [
       "      id        f0        f1        f2     product\n",
       "0  fwXo0 -1.146987  0.963328 -0.828965   27.758673\n",
       "1  WJtFt  0.262778  0.269839 -2.530187   56.069697\n",
       "2  ovLUW  0.194587  0.289035 -5.586433   62.871910\n",
       "3  q6cA6  2.236060 -0.553760  0.930038  114.572842\n",
       "4  WPMUX -0.515993  1.716266  5.899011  149.600746"
      ]
     },
     "execution_count": 5,
     "metadata": {},
     "output_type": "execute_result"
    }
   ],
   "source": [
    "data[2].head(5)"
   ]
  },
  {
   "cell_type": "markdown",
   "metadata": {},
   "source": [
    "#### Проверим есть ли у нас пропуски в данных"
   ]
  },
  {
   "cell_type": "code",
   "execution_count": 6,
   "metadata": {},
   "outputs": [
    {
     "name": "stdout",
     "output_type": "stream",
     "text": [
      "<class 'pandas.core.frame.DataFrame'>\n",
      "RangeIndex: 100000 entries, 0 to 99999\n",
      "Data columns (total 5 columns):\n",
      " #   Column   Non-Null Count   Dtype  \n",
      "---  ------   --------------   -----  \n",
      " 0   id       100000 non-null  object \n",
      " 1   f0       100000 non-null  float64\n",
      " 2   f1       100000 non-null  float64\n",
      " 3   f2       100000 non-null  float64\n",
      " 4   product  100000 non-null  float64\n",
      "dtypes: float64(4), object(1)\n",
      "memory usage: 3.8+ MB\n"
     ]
    }
   ],
   "source": [
    "data[0].info()"
   ]
  },
  {
   "cell_type": "code",
   "execution_count": 7,
   "metadata": {},
   "outputs": [
    {
     "name": "stdout",
     "output_type": "stream",
     "text": [
      "<class 'pandas.core.frame.DataFrame'>\n",
      "RangeIndex: 100000 entries, 0 to 99999\n",
      "Data columns (total 5 columns):\n",
      " #   Column   Non-Null Count   Dtype  \n",
      "---  ------   --------------   -----  \n",
      " 0   id       100000 non-null  object \n",
      " 1   f0       100000 non-null  float64\n",
      " 2   f1       100000 non-null  float64\n",
      " 3   f2       100000 non-null  float64\n",
      " 4   product  100000 non-null  float64\n",
      "dtypes: float64(4), object(1)\n",
      "memory usage: 3.8+ MB\n"
     ]
    }
   ],
   "source": [
    "data[1].info()"
   ]
  },
  {
   "cell_type": "code",
   "execution_count": 8,
   "metadata": {},
   "outputs": [
    {
     "name": "stdout",
     "output_type": "stream",
     "text": [
      "<class 'pandas.core.frame.DataFrame'>\n",
      "RangeIndex: 100000 entries, 0 to 99999\n",
      "Data columns (total 5 columns):\n",
      " #   Column   Non-Null Count   Dtype  \n",
      "---  ------   --------------   -----  \n",
      " 0   id       100000 non-null  object \n",
      " 1   f0       100000 non-null  float64\n",
      " 2   f1       100000 non-null  float64\n",
      " 3   f2       100000 non-null  float64\n",
      " 4   product  100000 non-null  float64\n",
      "dtypes: float64(4), object(1)\n",
      "memory usage: 3.8+ MB\n"
     ]
    }
   ],
   "source": [
    "data[2].info()"
   ]
  },
  {
   "cell_type": "markdown",
   "metadata": {},
   "source": [
    "### Описание данных\n",
    "\n",
    "**Признаки**\n",
    "* id — уникальный идентификатор скважины;\n",
    "* f0, f1, f2 — три признака точек (неважно, что они означают, но сами признаки значимы);\n",
    "* product — объём запасов в скважине (тыс. баррелей)."
   ]
  },
  {
   "cell_type": "markdown",
   "metadata": {},
   "source": [
    "#### Проверим повторяется ли индентификатор скважины"
   ]
  },
  {
   "cell_type": "code",
   "execution_count": 9,
   "metadata": {
    "scrolled": true
   },
   "outputs": [
    {
     "data": {
      "text/plain": [
       "Tdehs    2\n",
       "AGS9W    2\n",
       "fiKDv    2\n",
       "bxg6G    2\n",
       "TtcGQ    2\n",
       "        ..\n",
       "uhbGB    1\n",
       "eNlGM    1\n",
       "br8uY    1\n",
       "5tIi9    1\n",
       "4ePuU    1\n",
       "Name: id, Length: 99990, dtype: int64"
      ]
     },
     "execution_count": 9,
     "metadata": {},
     "output_type": "execute_result"
    }
   ],
   "source": [
    "data[0]['id'].value_counts()"
   ]
  },
  {
   "cell_type": "code",
   "execution_count": 10,
   "metadata": {},
   "outputs": [
    {
     "data": {
      "text/html": [
       "<div>\n",
       "<style scoped>\n",
       "    .dataframe tbody tr th:only-of-type {\n",
       "        vertical-align: middle;\n",
       "    }\n",
       "\n",
       "    .dataframe tbody tr th {\n",
       "        vertical-align: top;\n",
       "    }\n",
       "\n",
       "    .dataframe thead th {\n",
       "        text-align: right;\n",
       "    }\n",
       "</style>\n",
       "<table border=\"1\" class=\"dataframe\">\n",
       "  <thead>\n",
       "    <tr style=\"text-align: right;\">\n",
       "      <th></th>\n",
       "      <th>id</th>\n",
       "      <th>f0</th>\n",
       "      <th>f1</th>\n",
       "      <th>f2</th>\n",
       "      <th>product</th>\n",
       "    </tr>\n",
       "  </thead>\n",
       "  <tbody>\n",
       "    <tr>\n",
       "      <th>64022</th>\n",
       "      <td>74z30</td>\n",
       "      <td>0.741456</td>\n",
       "      <td>0.459229</td>\n",
       "      <td>5.153109</td>\n",
       "      <td>140.771492</td>\n",
       "    </tr>\n",
       "    <tr>\n",
       "      <th>66136</th>\n",
       "      <td>74z30</td>\n",
       "      <td>1.084962</td>\n",
       "      <td>-0.312358</td>\n",
       "      <td>6.990771</td>\n",
       "      <td>127.643327</td>\n",
       "    </tr>\n",
       "  </tbody>\n",
       "</table>\n",
       "</div>"
      ],
      "text/plain": [
       "          id        f0        f1        f2     product\n",
       "64022  74z30  0.741456  0.459229  5.153109  140.771492\n",
       "66136  74z30  1.084962 -0.312358  6.990771  127.643327"
      ]
     },
     "execution_count": 10,
     "metadata": {},
     "output_type": "execute_result"
    }
   ],
   "source": [
    "data[0].loc[data[0]['id'] == '74z30']"
   ]
  },
  {
   "cell_type": "markdown",
   "metadata": {},
   "source": [
    "К сожалению, мы не знаем причин появления нескольких строк данных по одним и тем же скважинам и не знаем можем ли мы объединить признаки эти скважин, поэтому избавимся от данных по этим скважинам"
   ]
  },
  {
   "cell_type": "code",
   "execution_count": 11,
   "metadata": {},
   "outputs": [],
   "source": [
    "for i in range(len(data)):\n",
    "    condition = (data[i]['id'].value_counts() > 1) # if 'id' exist more than 1 time\n",
    "    indexes = data[i]['id'].value_counts()[condition].index\n",
    "    data[i] = data[i].loc[~data[i]['id'].isin(indexes)]"
   ]
  },
  {
   "cell_type": "code",
   "execution_count": 12,
   "metadata": {},
   "outputs": [
    {
     "name": "stdout",
     "output_type": "stream",
     "text": [
      "Количество строк с данными по 0 региону: 99980\n",
      "Количество строк с данными по 1 региону: 99992\n",
      "Количество строк с данными по 2 региону: 99992\n"
     ]
    }
   ],
   "source": [
    "for i in range(len(data)):\n",
    "    print(f'Количество строк с данными по {i} региону: {data[i].shape[0]}')"
   ]
  },
  {
   "cell_type": "markdown",
   "metadata": {},
   "source": [
    "#### Установим id скважины как индекс"
   ]
  },
  {
   "cell_type": "code",
   "execution_count": 13,
   "metadata": {},
   "outputs": [
    {
     "name": "stdout",
     "output_type": "stream",
     "text": [
      "             f0        f1        f2     product\n",
      "id                                             \n",
      "txEyH  0.705745 -0.497823  1.221170  105.280062\n",
      "2acmU  1.334711 -0.340164  4.365080   73.037750\n",
      "409Wp  1.022732  0.151990  1.419926   85.265647\n",
      "\n",
      "              f0        f1        f2     product\n",
      "id                                              \n",
      "kBEdx -15.001348 -8.276000 -0.005876    3.179103\n",
      "62mP7  14.272088 -3.475083  0.999183   26.953261\n",
      "vyE1P   6.263187 -5.948386  5.001160  134.766305\n",
      "\n",
      "             f0        f1        f2    product\n",
      "id                                            \n",
      "fwXo0 -1.146987  0.963328 -0.828965  27.758673\n",
      "WJtFt  0.262778  0.269839 -2.530187  56.069697\n",
      "ovLUW  0.194587  0.289035 -5.586433  62.871910\n",
      "\n"
     ]
    }
   ],
   "source": [
    "for i in range(len(data)):\n",
    "    data[i].set_index('id', inplace=True)\n",
    "    print(data[i].head(3))\n",
    "    print()"
   ]
  },
  {
   "cell_type": "markdown",
   "metadata": {},
   "source": [
    "#### Рассмотрим распределение значений по каждому из признаков"
   ]
  },
  {
   "cell_type": "code",
   "execution_count": 14,
   "metadata": {},
   "outputs": [
    {
     "data": {
      "text/html": [
       "<div>\n",
       "<style scoped>\n",
       "    .dataframe tbody tr th:only-of-type {\n",
       "        vertical-align: middle;\n",
       "    }\n",
       "\n",
       "    .dataframe tbody tr th {\n",
       "        vertical-align: top;\n",
       "    }\n",
       "\n",
       "    .dataframe thead th {\n",
       "        text-align: right;\n",
       "    }\n",
       "</style>\n",
       "<table border=\"1\" class=\"dataframe\">\n",
       "  <thead>\n",
       "    <tr style=\"text-align: right;\">\n",
       "      <th></th>\n",
       "      <th>f0</th>\n",
       "      <th>f1</th>\n",
       "      <th>f2</th>\n",
       "      <th>product</th>\n",
       "    </tr>\n",
       "  </thead>\n",
       "  <tbody>\n",
       "    <tr>\n",
       "      <th>count</th>\n",
       "      <td>99980.000000</td>\n",
       "      <td>99980.000000</td>\n",
       "      <td>99980.000000</td>\n",
       "      <td>99980.000000</td>\n",
       "    </tr>\n",
       "    <tr>\n",
       "      <th>mean</th>\n",
       "      <td>0.500447</td>\n",
       "      <td>0.250147</td>\n",
       "      <td>2.502638</td>\n",
       "      <td>92.499166</td>\n",
       "    </tr>\n",
       "    <tr>\n",
       "      <th>std</th>\n",
       "      <td>0.871879</td>\n",
       "      <td>0.504431</td>\n",
       "      <td>3.248056</td>\n",
       "      <td>44.289044</td>\n",
       "    </tr>\n",
       "    <tr>\n",
       "      <th>min</th>\n",
       "      <td>-1.408605</td>\n",
       "      <td>-0.848218</td>\n",
       "      <td>-12.088328</td>\n",
       "      <td>0.000000</td>\n",
       "    </tr>\n",
       "    <tr>\n",
       "      <th>25%</th>\n",
       "      <td>-0.072674</td>\n",
       "      <td>-0.200869</td>\n",
       "      <td>0.288010</td>\n",
       "      <td>56.496513</td>\n",
       "    </tr>\n",
       "    <tr>\n",
       "      <th>50%</th>\n",
       "      <td>0.502374</td>\n",
       "      <td>0.250252</td>\n",
       "      <td>2.516005</td>\n",
       "      <td>91.847928</td>\n",
       "    </tr>\n",
       "    <tr>\n",
       "      <th>75%</th>\n",
       "      <td>1.073692</td>\n",
       "      <td>0.700646</td>\n",
       "      <td>4.714884</td>\n",
       "      <td>128.564089</td>\n",
       "    </tr>\n",
       "    <tr>\n",
       "      <th>max</th>\n",
       "      <td>2.362331</td>\n",
       "      <td>1.343769</td>\n",
       "      <td>16.003790</td>\n",
       "      <td>185.364347</td>\n",
       "    </tr>\n",
       "  </tbody>\n",
       "</table>\n",
       "</div>"
      ],
      "text/plain": [
       "                 f0            f1            f2       product\n",
       "count  99980.000000  99980.000000  99980.000000  99980.000000\n",
       "mean       0.500447      0.250147      2.502638     92.499166\n",
       "std        0.871879      0.504431      3.248056     44.289044\n",
       "min       -1.408605     -0.848218    -12.088328      0.000000\n",
       "25%       -0.072674     -0.200869      0.288010     56.496513\n",
       "50%        0.502374      0.250252      2.516005     91.847928\n",
       "75%        1.073692      0.700646      4.714884    128.564089\n",
       "max        2.362331      1.343769     16.003790    185.364347"
      ]
     },
     "execution_count": 14,
     "metadata": {},
     "output_type": "execute_result"
    }
   ],
   "source": [
    "data[0].describe()"
   ]
  },
  {
   "cell_type": "code",
   "execution_count": 15,
   "metadata": {},
   "outputs": [
    {
     "data": {
      "text/html": [
       "<div>\n",
       "<style scoped>\n",
       "    .dataframe tbody tr th:only-of-type {\n",
       "        vertical-align: middle;\n",
       "    }\n",
       "\n",
       "    .dataframe tbody tr th {\n",
       "        vertical-align: top;\n",
       "    }\n",
       "\n",
       "    .dataframe thead th {\n",
       "        text-align: right;\n",
       "    }\n",
       "</style>\n",
       "<table border=\"1\" class=\"dataframe\">\n",
       "  <thead>\n",
       "    <tr style=\"text-align: right;\">\n",
       "      <th></th>\n",
       "      <th>f0</th>\n",
       "      <th>f1</th>\n",
       "      <th>f2</th>\n",
       "      <th>product</th>\n",
       "    </tr>\n",
       "  </thead>\n",
       "  <tbody>\n",
       "    <tr>\n",
       "      <th>count</th>\n",
       "      <td>99992.000000</td>\n",
       "      <td>99992.000000</td>\n",
       "      <td>99992.000000</td>\n",
       "      <td>99992.000000</td>\n",
       "    </tr>\n",
       "    <tr>\n",
       "      <th>mean</th>\n",
       "      <td>1.141363</td>\n",
       "      <td>-4.796522</td>\n",
       "      <td>2.494511</td>\n",
       "      <td>68.824148</td>\n",
       "    </tr>\n",
       "    <tr>\n",
       "      <th>std</th>\n",
       "      <td>8.965805</td>\n",
       "      <td>5.119934</td>\n",
       "      <td>1.703587</td>\n",
       "      <td>45.944889</td>\n",
       "    </tr>\n",
       "    <tr>\n",
       "      <th>min</th>\n",
       "      <td>-31.609576</td>\n",
       "      <td>-26.358598</td>\n",
       "      <td>-0.018144</td>\n",
       "      <td>0.000000</td>\n",
       "    </tr>\n",
       "    <tr>\n",
       "      <th>25%</th>\n",
       "      <td>-6.298525</td>\n",
       "      <td>-8.267985</td>\n",
       "      <td>1.000021</td>\n",
       "      <td>26.953261</td>\n",
       "    </tr>\n",
       "    <tr>\n",
       "      <th>50%</th>\n",
       "      <td>1.153190</td>\n",
       "      <td>-4.813005</td>\n",
       "      <td>2.011475</td>\n",
       "      <td>57.085625</td>\n",
       "    </tr>\n",
       "    <tr>\n",
       "      <th>75%</th>\n",
       "      <td>8.620964</td>\n",
       "      <td>-1.332704</td>\n",
       "      <td>3.999904</td>\n",
       "      <td>107.813044</td>\n",
       "    </tr>\n",
       "    <tr>\n",
       "      <th>max</th>\n",
       "      <td>29.421755</td>\n",
       "      <td>18.734063</td>\n",
       "      <td>5.019721</td>\n",
       "      <td>137.945408</td>\n",
       "    </tr>\n",
       "  </tbody>\n",
       "</table>\n",
       "</div>"
      ],
      "text/plain": [
       "                 f0            f1            f2       product\n",
       "count  99992.000000  99992.000000  99992.000000  99992.000000\n",
       "mean       1.141363     -4.796522      2.494511     68.824148\n",
       "std        8.965805      5.119934      1.703587     45.944889\n",
       "min      -31.609576    -26.358598     -0.018144      0.000000\n",
       "25%       -6.298525     -8.267985      1.000021     26.953261\n",
       "50%        1.153190     -4.813005      2.011475     57.085625\n",
       "75%        8.620964     -1.332704      3.999904    107.813044\n",
       "max       29.421755     18.734063      5.019721    137.945408"
      ]
     },
     "execution_count": 15,
     "metadata": {},
     "output_type": "execute_result"
    }
   ],
   "source": [
    "data[1].describe()"
   ]
  },
  {
   "cell_type": "code",
   "execution_count": 16,
   "metadata": {},
   "outputs": [
    {
     "data": {
      "text/html": [
       "<div>\n",
       "<style scoped>\n",
       "    .dataframe tbody tr th:only-of-type {\n",
       "        vertical-align: middle;\n",
       "    }\n",
       "\n",
       "    .dataframe tbody tr th {\n",
       "        vertical-align: top;\n",
       "    }\n",
       "\n",
       "    .dataframe thead th {\n",
       "        text-align: right;\n",
       "    }\n",
       "</style>\n",
       "<table border=\"1\" class=\"dataframe\">\n",
       "  <thead>\n",
       "    <tr style=\"text-align: right;\">\n",
       "      <th></th>\n",
       "      <th>f0</th>\n",
       "      <th>f1</th>\n",
       "      <th>f2</th>\n",
       "      <th>product</th>\n",
       "    </tr>\n",
       "  </thead>\n",
       "  <tbody>\n",
       "    <tr>\n",
       "      <th>count</th>\n",
       "      <td>99992.000000</td>\n",
       "      <td>99992.000000</td>\n",
       "      <td>99992.000000</td>\n",
       "      <td>99992.000000</td>\n",
       "    </tr>\n",
       "    <tr>\n",
       "      <th>mean</th>\n",
       "      <td>0.001975</td>\n",
       "      <td>-0.002113</td>\n",
       "      <td>2.495088</td>\n",
       "      <td>94.998767</td>\n",
       "    </tr>\n",
       "    <tr>\n",
       "      <th>std</th>\n",
       "      <td>1.732061</td>\n",
       "      <td>1.730404</td>\n",
       "      <td>3.473491</td>\n",
       "      <td>44.747763</td>\n",
       "    </tr>\n",
       "    <tr>\n",
       "      <th>min</th>\n",
       "      <td>-8.760004</td>\n",
       "      <td>-7.084020</td>\n",
       "      <td>-11.970335</td>\n",
       "      <td>0.000000</td>\n",
       "    </tr>\n",
       "    <tr>\n",
       "      <th>25%</th>\n",
       "      <td>-1.162328</td>\n",
       "      <td>-1.174820</td>\n",
       "      <td>0.130269</td>\n",
       "      <td>59.450441</td>\n",
       "    </tr>\n",
       "    <tr>\n",
       "      <th>50%</th>\n",
       "      <td>0.009411</td>\n",
       "      <td>-0.009580</td>\n",
       "      <td>2.484236</td>\n",
       "      <td>94.925026</td>\n",
       "    </tr>\n",
       "    <tr>\n",
       "      <th>75%</th>\n",
       "      <td>1.158442</td>\n",
       "      <td>1.163592</td>\n",
       "      <td>4.858662</td>\n",
       "      <td>130.585544</td>\n",
       "    </tr>\n",
       "    <tr>\n",
       "      <th>max</th>\n",
       "      <td>7.238262</td>\n",
       "      <td>7.844801</td>\n",
       "      <td>16.739402</td>\n",
       "      <td>190.029838</td>\n",
       "    </tr>\n",
       "  </tbody>\n",
       "</table>\n",
       "</div>"
      ],
      "text/plain": [
       "                 f0            f1            f2       product\n",
       "count  99992.000000  99992.000000  99992.000000  99992.000000\n",
       "mean       0.001975     -0.002113      2.495088     94.998767\n",
       "std        1.732061      1.730404      3.473491     44.747763\n",
       "min       -8.760004     -7.084020    -11.970335      0.000000\n",
       "25%       -1.162328     -1.174820      0.130269     59.450441\n",
       "50%        0.009411     -0.009580      2.484236     94.925026\n",
       "75%        1.158442      1.163592      4.858662    130.585544\n",
       "max        7.238262      7.844801     16.739402    190.029838"
      ]
     },
     "execution_count": 16,
     "metadata": {},
     "output_type": "execute_result"
    }
   ],
   "source": [
    "data[2].describe()"
   ]
  },
  {
   "cell_type": "markdown",
   "metadata": {},
   "source": [
    "### Вывод\n",
    "* Имеем 3 региона с 100000 скважинами. \n",
    "* Пропуски в данных отсутствуют.\n",
    "* Имеются скважины с нулевым запасом.\n",
    "* Во всех регионах почти равно среднеквадратичное отклонение запаса в скважине, но в регионе \"1\" значительно меньше средние и медианные запасы.\n",
    "* Удалили для использования в обучении модели 20, 8 и 8 строк с данными с повторяющимеся 'id' скважин в \"0\", \"1\" и \"2\" регионах соответственно."
   ]
  },
  {
   "cell_type": "markdown",
   "metadata": {},
   "source": [
    "<a id=\"model\"></a>\n",
    "## 2. Обучение и проверка модели"
   ]
  },
  {
   "cell_type": "markdown",
   "metadata": {},
   "source": [
    "#### Разобьём данные на обучающую и валидационную выборки в соотношении 75:25"
   ]
  },
  {
   "cell_type": "code",
   "execution_count": 17,
   "metadata": {},
   "outputs": [],
   "source": [
    "features_train = []\n",
    "features_valid = []\n",
    "target_train = []\n",
    "target_valid = []\n",
    "\n",
    "for i in range(len(data)):\n",
    "    features = data[i].drop(['product'], axis=1)\n",
    "    target = data[i].loc[:,'product']\n",
    "\n",
    "    X_train, X_valid, y_train, y_valid = train_test_split(features, target, test_size=0.25, random_state=91)\n",
    "    features_train.append(X_train)\n",
    "    features_valid.append(X_valid)\n",
    "    target_train.append(y_train)\n",
    "    target_valid.append(y_valid)"
   ]
  },
  {
   "cell_type": "markdown",
   "metadata": {},
   "source": [
    "<a id=\"predict\"></a>\n",
    "### 2.1 Обучение модели и предсказание на валидационной выборке"
   ]
  },
  {
   "cell_type": "markdown",
   "metadata": {},
   "source": [
    "#### Обучим модель и сделаем предсказания на валидационной выборке"
   ]
  },
  {
   "cell_type": "code",
   "execution_count": 18,
   "metadata": {},
   "outputs": [
    {
     "name": "stdout",
     "output_type": "stream",
     "text": [
      "\"0\" - регион\n",
      "\tСредний запас предсказанного сырья: 92.518\n",
      "\tRMSE: 37.649\n",
      "\n",
      "\"1\" - регион\n",
      "\tСредний запас предсказанного сырья: 68.716\n",
      "\tRMSE: 0.895\n",
      "\n",
      "\"2\" - регион\n",
      "\tСредний запас предсказанного сырья: 94.791\n",
      "\tRMSE: 39.958\n",
      "\n"
     ]
    }
   ],
   "source": [
    "models = []\n",
    "predictions = []\n",
    "rmse = []\n",
    "\n",
    "for i in range(len(data)):\n",
    "    models.append(LinearRegression(copy_X=True, n_jobs=-1))\n",
    "    models[i].fit(features_train[i], target_train[i])\n",
    "    predicted_values = models[i].predict(features_valid[i])\n",
    "    predictions.append(pd.Series(data=predicted_values, index=target_valid[i].index))\n",
    "    rmse.append(mean_squared_error(target_valid[i], predictions[i], squared=False))\n",
    "    print(f'\"{i}\" - регион\\n\\tСредний запас предсказанного сырья: {predictions[i].mean():.3f}\\n\\tRMSE: {rmse[i]:.3f}\\n')"
   ]
  },
  {
   "cell_type": "markdown",
   "metadata": {},
   "source": [
    "<a id=\"analysis\"></a>\n",
    "### 2.2  Анализ результатов обучения"
   ]
  },
  {
   "cell_type": "markdown",
   "metadata": {},
   "source": [
    "В регионе \"1\" наша модель линейной регрессии идеально предсказывает запас сырья.\n",
    "\n",
    "Посмотрим корреляцию признаков"
   ]
  },
  {
   "cell_type": "code",
   "execution_count": 19,
   "metadata": {},
   "outputs": [
    {
     "data": {
      "text/html": [
       "<div>\n",
       "<style scoped>\n",
       "    .dataframe tbody tr th:only-of-type {\n",
       "        vertical-align: middle;\n",
       "    }\n",
       "\n",
       "    .dataframe tbody tr th {\n",
       "        vertical-align: top;\n",
       "    }\n",
       "\n",
       "    .dataframe thead th {\n",
       "        text-align: right;\n",
       "    }\n",
       "</style>\n",
       "<table border=\"1\" class=\"dataframe\">\n",
       "  <thead>\n",
       "    <tr style=\"text-align: right;\">\n",
       "      <th></th>\n",
       "      <th>f0</th>\n",
       "      <th>f1</th>\n",
       "      <th>f2</th>\n",
       "      <th>product</th>\n",
       "    </tr>\n",
       "  </thead>\n",
       "  <tbody>\n",
       "    <tr>\n",
       "      <th>f0</th>\n",
       "      <td>1.000000</td>\n",
       "      <td>0.182263</td>\n",
       "      <td>-0.001821</td>\n",
       "      <td>-0.030534</td>\n",
       "    </tr>\n",
       "    <tr>\n",
       "      <th>f1</th>\n",
       "      <td>0.182263</td>\n",
       "      <td>1.000000</td>\n",
       "      <td>-0.002608</td>\n",
       "      <td>-0.010167</td>\n",
       "    </tr>\n",
       "    <tr>\n",
       "      <th>f2</th>\n",
       "      <td>-0.001821</td>\n",
       "      <td>-0.002608</td>\n",
       "      <td>1.000000</td>\n",
       "      <td>0.999397</td>\n",
       "    </tr>\n",
       "    <tr>\n",
       "      <th>product</th>\n",
       "      <td>-0.030534</td>\n",
       "      <td>-0.010167</td>\n",
       "      <td>0.999397</td>\n",
       "      <td>1.000000</td>\n",
       "    </tr>\n",
       "  </tbody>\n",
       "</table>\n",
       "</div>"
      ],
      "text/plain": [
       "               f0        f1        f2   product\n",
       "f0       1.000000  0.182263 -0.001821 -0.030534\n",
       "f1       0.182263  1.000000 -0.002608 -0.010167\n",
       "f2      -0.001821 -0.002608  1.000000  0.999397\n",
       "product -0.030534 -0.010167  0.999397  1.000000"
      ]
     },
     "execution_count": 19,
     "metadata": {},
     "output_type": "execute_result"
    }
   ],
   "source": [
    "data[1].corr()"
   ]
  },
  {
   "cell_type": "markdown",
   "metadata": {},
   "source": [
    "Видим, что коэффициент корреляции признака f2 к product равен почти 1.0\n",
    "\n",
    "Построим график отношения признака f2 к product"
   ]
  },
  {
   "cell_type": "code",
   "execution_count": 20,
   "metadata": {},
   "outputs": [
    {
     "data": {
      "image/png": "[encoded data removed]",
      "text/plain": [
       "<Figure size 720x864 with 3 Axes>"
      ]
     },
     "metadata": {
      "needs_background": "light"
     },
     "output_type": "display_data"
    }
   ],
   "source": [
    "fig, ax = plt.subplots(3,1)\n",
    "fig.set_size_inches(10, 12)\n",
    "\n",
    "for i in range(len(data)):\n",
    "    ax[i].scatter(\n",
    "        target_valid[i],\n",
    "        features_valid[i].loc[:, 'f2']\n",
    "        )\n",
    "    ax[i].plot(models[i].coef_[2]*features_valid[i].loc[:, 'f2'] + models[i].intercept_, features_valid[i].loc[:, 'f2'], color='red', linewidth=2)\n",
    "    ax[i].grid(True)\n",
    "    ax[i].set_title(f'Region \"{i}\"', fontsize=16)\n",
    "    ax[i].set_xlabel('Product', fontsize=14)\n",
    "    ax[i].set_ylabel('f2', fontsize=14)\n",
    "\n",
    "plt.subplots_adjust(hspace=0.4)\n",
    "plt.show()"
   ]
  },
  {
   "cell_type": "markdown",
   "metadata": {},
   "source": [
    "Оказывается в регионе \"1\" f2 у нас меняется дискретно (0,1,2...) и на каждом значении f2 запас сырья может принять только одно из двух значений. Очень любопытное наблюдение."
   ]
  },
  {
   "cell_type": "markdown",
   "metadata": {},
   "source": [
    "### Вывод\n",
    "* Линейная модель плохо подходит для предсказания запасов сырья в регионах \"0\" и \"2\". Об этом говорит высокое значение RMSE: около 40 при средних запасах около 90.\n",
    "* Линейная модель идеально предсказывает запас сырья в регионе \"1\". Но мы наблюдаем аномалии в значениях признака f2 и целевого признака product."
   ]
  },
  {
   "cell_type": "markdown",
   "metadata": {},
   "source": [
    "<a id=\"earnings\"></a>\n",
    "## 3. Расчёт прибыли"
   ]
  },
  {
   "cell_type": "markdown",
   "metadata": {},
   "source": [
    "<a id=\"earnings_1\"></a>\n",
    "### 3.1 Подготовка к расчёту прибыли\n",
    "**Рассчитаем достаточный объём сырья для безубыточной разработки новой скважины**"
   ]
  },
  {
   "cell_type": "code",
   "execution_count": 22,
   "metadata": {},
   "outputs": [
    {
     "name": "stdout",
     "output_type": "stream",
     "text": [
      "Бюджет на разработку скважин в регионе: 10000000000\n",
      "Количество исследуемых скважин в регионе: 500\n",
      "Количество исследуемых скважин для разработки в регионе: 200\n",
      "Доход с одной тысячи баррелей: 450000\n",
      "Минимальный доход со скважины для безубыточности: 50000000\n",
      "Минимальный запас сырья в скважине для безубыточности: 111.111\n"
     ]
    }
   ],
   "source": [
    "WELL_EXPLORE_COUNT = 500\n",
    "WELL_ELABORATION_COUNT = 200\n",
    "BARREL_INCOME = 450000\n",
    "BUDGET_FULL = 10000000000\n",
    "BUDGET_PER_WELL = BUDGET_FULL / WELL_ELABORATION_COUNT\n",
    "MINIMAL_PRODUCT_FOR_EARNINGS = BUDGET_PER_WELL / BARREL_INCOME\n",
    "\n",
    "print(f'Бюджет на разработку скважин в регионе: {BUDGET_FULL}')\n",
    "print(f'Количество исследуемых скважин в регионе: {WELL_EXPLORE_COUNT}')\n",
    "print(f'Количество исследуемых скважин для разработки в регионе: {WELL_ELABORATION_COUNT}')\n",
    "print(f'Доход с одной тысячи баррелей: {BARREL_INCOME}')\n",
    "print(f'Минимальный доход со скважины для безубыточности: {BUDGET_PER_WELL:.0f}')\n",
    "print(f'Минимальный запас сырья в скважине для безубыточности: {MINIMAL_PRODUCT_FOR_EARNINGS:.3f}')"
   ]
  },
  {
   "cell_type": "markdown",
   "metadata": {},
   "source": [
    "### Вывод\n",
    "* При средних запасах сырья 92, 68 и 94 в регионах \"0\", \"1\" и \"2\" соответственно минимальный требуемый запас сырья для безубыточности равняется 111. Можем отметить, что нам потребуется найти скважины с запасом сырья сыльно больше среднего"
   ]
  },
  {
   "cell_type": "markdown",
   "metadata": {},
   "source": [
    "<a id=\"earnings_2\"></a>\n",
    "### 3.2 Расчёт прибыли и рисков"
   ]
  },
  {
   "cell_type": "markdown",
   "metadata": {},
   "source": [
    "Функция расчёта прибыли"
   ]
  },
  {
   "cell_type": "code",
   "execution_count": 23,
   "metadata": {},
   "outputs": [],
   "source": [
    "def wells_earnings(predicted_values=None, selected_count=None, region=None):\n",
    "    '''Returns revenue of selected wells.'''\n",
    "    predicted_sorted = predicted_values.sort_values(ascending=False)\n",
    "    selected_values = target_valid[region][predicted_sorted.index][:selected_count]\n",
    "    earnings = (selected_values.sum() - MINIMAL_PRODUCT_FOR_EARNINGS*selected_count) * BUDGET_PER_WELL\n",
    "    return earnings"
   ]
  },
  {
   "cell_type": "markdown",
   "metadata": {},
   "source": [
    "#### Применим технику Bootstrap для получения распределения средней прибыли по регионам"
   ]
  },
  {
   "cell_type": "code",
   "execution_count": 24,
   "metadata": {},
   "outputs": [],
   "source": [
    "state = np.random.RandomState(91)\n",
    "earnings = []\n",
    "confidence_intervals =[]\n",
    "for i in range(len(data)):\n",
    "    values = []\n",
    "    lower_upper = {}\n",
    "    for j in range(1000):\n",
    "        sample = predictions[i].sample(frac=1, replace=True, random_state=state)\n",
    "        values.append(wells_earnings(sample.iloc[:WELL_EXPLORE_COUNT], WELL_ELABORATION_COUNT, region=i))\n",
    "    values = pd.Series(values)\n",
    "    earnings.append(values)\n",
    "    lower_upper['lower'] = values.quantile(0.025)\n",
    "    lower_upper['upper'] = values.quantile(0.975)\n",
    "    confidence_intervals.append(lower_upper)"
   ]
  },
  {
   "cell_type": "markdown",
   "metadata": {},
   "source": [
    "#### Средняя прибыль, доверительный интервал и вероятность убытков в регионе"
   ]
  },
  {
   "cell_type": "code",
   "execution_count": 25,
   "metadata": {},
   "outputs": [
    {
     "name": "stdout",
     "output_type": "stream",
     "text": [
      "\"0\" - регион\n",
      "\tСредняя прибыль: 48133654190\n",
      "\tДоверительный интервал: от  -6327703974 до 102979279768\n",
      "\tВероятность убытков: 5.0%\n",
      "\n",
      "\"1\" - регион\n",
      "\tСредняя прибыль: 46979959368\n",
      "\tДоверительный интервал: от   3060505137 до  91685591846\n",
      "\tВероятность убытков: 1.9%\n",
      "\n",
      "\"2\" - регион\n",
      "\tСредняя прибыль: 38997069530\n",
      "\tДоверительный интервал: от -17285313556 до  94376825402\n",
      "\tВероятность убытков: 9.2%\n",
      "\n",
      "Наибольшая возможная прибыль при риске убытков менее 2.5% в регионе \"1\"\n"
     ]
    }
   ],
   "source": [
    "RISK_THRESHOLD = 2.5\n",
    "risk = []\n",
    "\n",
    "for i in range(len(data)):\n",
    "    print(f'\"{i}\" - регион\\n\\tСредняя прибыль: {earnings[i].mean():.0f}')\n",
    "    print(f'\\tДоверительный интервал: от {confidence_intervals[i][\"lower\"]:12.0f} до {confidence_intervals[i][\"upper\"]:12.0f}')\n",
    "    risk.append((earnings[i] < 0).mean()*100)\n",
    "    print(f'\\tВероятность убытков: {risk[i]}%')\n",
    "    print()\n",
    "\n",
    "region = None\n",
    "best_earnings = 0\n",
    "for i in range(len(data)):\n",
    "    if risk[i] < RISK_THRESHOLD and earnings[i].mean() > best_earnings:\n",
    "        best_earnings = earnings[i].mean()\n",
    "        region = i\n",
    "\n",
    "if region:\n",
    "    print(f'Наибольшая возможная прибыль при риске убытков менее {RISK_THRESHOLD}% в регионе \"{region}\"')\n",
    "else:\n",
    "    print(f'Во всех регионах риск убытков более {RISK_THRESHOLD}%')"
   ]
  },
  {
   "cell_type": "markdown",
   "metadata": {},
   "source": [
    "### Вывод\n",
    "* Вероятность убытков ниже 2.5% только в регионе \"1\""
   ]
  },
  {
   "cell_type": "markdown",
   "metadata": {},
   "source": [
    "<a id=\"conclusion\"></a>\n",
    "## 4. Общий вывод\n",
    "**Обучили модели для каждого региона и предсказали значения на валидационной выборке. Рассчитали минимальный запас сырья в скважине для безубыточности разработки. Применили полученные значения для расчёта прибыли на каждой итерации техники Bootstrap. Посчитали среднюю прибыль, доверительный интервал, вероятность убытков из полученной выборки. На основе полученных данных делаем вывод о необходимости выбора региона \"1\" для разработки скважин.**"
   ]
  }
 ],
 "metadata": {
  "kernelspec": {
   "display_name": "Python 3",
   "language": "python",
   "name": "python3"
  },
  "language_info": {
   "codemirror_mode": {
    "name": "ipython",
    "version": 3
   },
   "file_extension": ".py",
   "mimetype": "text/x-python",
   "name": "python",
   "nbconvert_exporter": "python",
   "pygments_lexer": "ipython3",
   "version": "3.8.11"
  }
 },
 "nbformat": 4,
 "nbformat_minor": 4
}
